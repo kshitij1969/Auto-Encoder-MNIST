{
 "cells": [
  {
   "cell_type": "code",
   "execution_count": 2,
   "metadata": {},
   "outputs": [],
   "source": [
    "import matplotlib.pyplot as plt\n",
    "import numpy as np\n",
    "import tensorflow as tf\n",
    "import pandas as pd"
   ]
  },
  {
   "cell_type": "code",
   "execution_count": 7,
   "metadata": {},
   "outputs": [
    {
     "name": "stdout",
     "output_type": "stream",
     "text": [
      "(60000, 784)\n",
      "(10000, 784)\n",
      "Epoch 0 / 20 loss: 1082.8035073280334\n",
      "Epoch 1 / 20 loss: 236.63942249119282\n",
      "Epoch 2 / 20 loss: 122.99153557419777\n",
      "Epoch 3 / 20 loss: 77.78809881210327\n",
      "Epoch 4 / 20 loss: 58.9418668076396\n",
      "Epoch 5 / 20 loss: 50.75841659680009\n",
      "Epoch 6 / 20 loss: 47.003000907599926\n",
      "Epoch 7 / 20 loss: 45.14110607281327\n",
      "Epoch 8 / 20 loss: 44.122338596731424\n",
      "Epoch 9 / 20 loss: 43.49899112805724\n",
      "Epoch 10 / 20 loss: 43.07447277754545\n",
      "Epoch 11 / 20 loss: 42.75942002236843\n",
      "Epoch 12 / 20 loss: 42.51105586066842\n",
      "Epoch 13 / 20 loss: 42.307411067187786\n",
      "Epoch 14 / 20 loss: 42.136201698333025\n",
      "Epoch 15 / 20 loss: 41.98988863825798\n",
      "Epoch 16 / 20 loss: 41.863412376493216\n",
      "Epoch 17 / 20 loss: 41.75312451273203\n",
      "Epoch 18 / 20 loss: 41.656251050531864\n",
      "Epoch 19 / 20 loss: 41.570610497146845\n",
      "Trained\n"
     ]
    },
    {
     "data": {
      "image/png": "[encoded data removed]",
      "text/plain": [
       "<Figure size 1440x288 with 2 Axes>"
      ]
     },
     "metadata": {
      "needs_background": "light"
     },
     "output_type": "display_data"
    },
    {
     "name": "stdout",
     "output_type": "stream",
     "text": [
      "Results\n"
     ]
    }
   ],
   "source": [
    "class Autoencoder(object):\n",
    "    def __init__(self, inout_dim, encoded_dim):\n",
    "        learning_rate = 0.1\n",
    "        \n",
    "        # Weights and Biases for encoder only one hidden layer\n",
    "        hidden_layer_weights = tf.Variable(tf.random.normal([inout_dim,encoded_dim]))\n",
    "        hidden_layer_biases = tf.Variable(tf.random.normal([encoded_dim]))\n",
    "         # Weights and Biases for decoder only one hidden layer\n",
    "        output_layer_weights = tf.Variable(tf.random.normal([encoded_dim , inout_dim]))\n",
    "        output_layer_biases = tf.Variable(tf.random.normal([inout_dim]))\n",
    "        \n",
    "        # Neural Network\n",
    "        self._input_layer = tf.placeholder('float',[None, inout_dim])\n",
    "        self._hidden_layer = tf.nn.sigmoid(tf.add(tf.matmul(self._input_layer,hidden_layer_weights),hidden_layer_biases))\n",
    "        self._output_layer = tf.matmul(self._hidden_layer,output_layer_weights) + output_layer_biases\n",
    "        self._real_output = tf.placeholder('float',[None, inout_dim]) # will act as constraints during loss function calc\n",
    "        \n",
    "        # mean square loss\n",
    "        self._meansq = tf.reduce_mean(tf.square(self._output_layer - self._real_output))\n",
    "        # train by minimizing the loss\n",
    "        self._optimizer = tf.train.AdagradOptimizer(learning_rate).minimize(self._meansq)\n",
    "        # Now initialize the variables\n",
    "        self._training = tf.global_variables_initializer()\n",
    "        self._session = tf.Session()\n",
    "        \n",
    "    def train(self, input_train, input_test, batch_size, epochs):\n",
    "        self._session.run(self._training)\n",
    "        \n",
    "        for epoch in range(epochs):\n",
    "            epoch_loss = 0\n",
    "            for i in range(int(input_train.shape[0]/batch_size)):\n",
    "                epoch_input = input_train[ i*batch_size : (i+1) * batch_size]\n",
    "                _, c = self._session.run([self._optimizer, self._meansq], feed_dict={self._input_layer: epoch_input, self._real_output: epoch_input})\n",
    "                epoch_loss += c\n",
    "            print('Epoch',epoch, '/', epochs, 'loss:',epoch_loss)\n",
    "    \n",
    "    def getEncodedImage(self, image):\n",
    "        encoded_image = self._session.run(self._hidden_layer, feed_dict={self._input_layer:[image]})\n",
    "        return encoded_image\n",
    "    \n",
    "    def getDecodedImage(self, image):\n",
    "        decoded_image = self._session.run(self._output_layer, feed_dict={self._input_layer:[image]})\n",
    "        return decoded_image\n",
    "     \n",
    "# (x_train,_), (x_test,_) = mnist.load_data()\n",
    "# print(x_train.shape)\n",
    "\n",
    "train_data = pd.read_csv(\"./mnist_train.csv\").values\n",
    "x_train = train_data[:,1:]\n",
    "print(x_train.shape)\n",
    "test_data = pd.read_csv(\"./mnist_test.csv\").values\n",
    "x_test = test_data[:,1:]\n",
    "print(x_test.shape)\n",
    "# train_data = pd.read_csv(\"./mnist_train.csv\").values\n",
    "# x_train = train_data[:,1:]\n",
    "\n",
    "#prepare input\n",
    "\n",
    "x_train = x_train.astype('float32') / 255.\n",
    "x_test = x_test.astype('float32') / 255.\n",
    "\n",
    "x_train = x_train.reshape((len(x_train), np.prod(x_train.shape[1:]))) # shape will be 60000 * 784\n",
    "x_test = x_test.reshape((len(x_test), np.prod(x_test.shape[1:]))) # shape will be 10000 * 784\n",
    "\n",
    "#Tensorflow implementation\n",
    "\n",
    "autoencodertf = Autoencoder(x_train.shape[1], 16)\n",
    "autoencodertf.train(x_train, x_test, 100, 20)\n",
    "\n",
    "encoded_img = autoencodertf.getEncodedImage(x_test[1])\n",
    "decoded_img = autoencodertf.getDecodedImage(x_test[1])\n",
    "\n",
    "print(\"Trained\")\n",
    "\n",
    "# visualizing the Results\n",
    "\n",
    "plt.figure(figsize = (20, 4))\n",
    "subplot = plt.subplot(2,10,1)\n",
    "plt.imshow(x_test[1].reshape(28,28))\n",
    "plt.gray()\n",
    "\n",
    "subplot.get_xaxis().set_visible(False)\n",
    "subplot.get_yaxis().set_visible(False)\n",
    "\n",
    "subplot = plt.subplot(2,10,2)\n",
    "\n",
    "plt.imshow(decoded_img.reshape(28,28))\n",
    "plt.gray()\n",
    "plt.show()\n",
    "subplot.get_xaxis().set_visible(False)\n",
    "subplot.get_yaxis().set_visible(False)\n",
    "\n",
    "print(\"Results\")\n"
   ]
  },
  {
   "cell_type": "markdown",
   "metadata": {},
   "source": []
  }
 ],
 "metadata": {
  "kernelspec": {
   "display_name": "Python 3",
   "language": "python",
   "name": "python3"
  },
  "language_info": {
   "codemirror_mode": {
    "name": "ipython",
    "version": 3
   },
   "file_extension": ".py",
   "mimetype": "text/x-python",
   "name": "python",
   "nbconvert_exporter": "python",
   "pygments_lexer": "ipython3",
   "version": "3.7.7"
  }
 },
 "nbformat": 4,
 "nbformat_minor": 2
}
